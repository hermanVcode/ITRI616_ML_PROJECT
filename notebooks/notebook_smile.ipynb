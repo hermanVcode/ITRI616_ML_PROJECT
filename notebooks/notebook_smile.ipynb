{
 "cells": [
  {
   "cell_type": "code",
   "execution_count": null,
   "id": "faa60068",
   "metadata": {},
   "outputs": [],
   "source": [
    "# Training DCNN on preprocessed 128×128 images with the Smiling label\n",
    "# Cell Purpose: Imports"
   ]
  },
  {
   "cell_type": "code",
   "execution_count": null,
   "id": "cd79f627",
   "metadata": {},
   "outputs": [],
   "source": [
    "# Cell Purpose: Configuration"
   ]
  },
  {
   "cell_type": "code",
   "execution_count": null,
   "id": "64c24e0f",
   "metadata": {},
   "outputs": [],
   "source": [
    "# Cell Purpose: Load labels"
   ]
  },
  {
   "cell_type": "code",
   "execution_count": null,
   "id": "1199fd2d",
   "metadata": {},
   "outputs": [],
   "source": [
    "# Cell Purpose: Load images"
   ]
  },
  {
   "cell_type": "code",
   "execution_count": null,
   "id": "55767dc9",
   "metadata": {},
   "outputs": [],
   "source": [
    "# Cell Purpose: Data Preprocessing"
   ]
  },
  {
   "cell_type": "code",
   "execution_count": null,
   "id": "17814cc9",
   "metadata": {},
   "outputs": [],
   "source": [
    "# Cell Purpose: Model Definition"
   ]
  },
  {
   "cell_type": "code",
   "execution_count": null,
   "id": "34ddd0ee",
   "metadata": {},
   "outputs": [],
   "source": [
    "# Cell Purpose: Compile and Train"
   ]
  },
  {
   "cell_type": "code",
   "execution_count": null,
   "id": "1921ea23",
   "metadata": {},
   "outputs": [],
   "source": [
    "# Cell Purpose: Evaluate model"
   ]
  },
  {
   "cell_type": "code",
   "execution_count": null,
   "id": "9cd13144",
   "metadata": {},
   "outputs": [],
   "source": [
    "# Cell Purpose: Extract Features"
   ]
  },
  {
   "cell_type": "code",
   "execution_count": null,
   "id": "001c3e6e",
   "metadata": {},
   "outputs": [],
   "source": [
    "# Cell Purpose: Save Features and Labels for notebook_dcnn_rf.ipynb"
   ]
  }
 ],
 "metadata": {
  "kernelspec": {
   "display_name": "venv",
   "language": "python",
   "name": "python3"
  },
  "language_info": {
   "name": "python",
   "version": "3.10.11"
  }
 },
 "nbformat": 4,
 "nbformat_minor": 5
}
