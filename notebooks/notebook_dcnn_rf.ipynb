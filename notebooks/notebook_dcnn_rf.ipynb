{
 "cells": [
  {
   "cell_type": "code",
   "execution_count": null,
   "id": "45fde0a3",
   "metadata": {},
   "outputs": [],
   "source": [
    "# Random Forest to classify based on the DCNN features extracted from preprocessed images with the Smiling label"
   ]
  }
 ],
 "metadata": {
  "language_info": {
   "name": "python"
  }
 },
 "nbformat": 4,
 "nbformat_minor": 5
}
